{
 "cells": [
  {
   "cell_type": "code",
   "execution_count": 1,
   "metadata": {},
   "outputs": [],
   "source": [
    "%matplotlib widget\n",
    "\n",
    "import numpy as np\n",
    "import pandas as pd\n",
    "import matplotlib.pyplot as plt"
   ]
  },
  {
   "cell_type": "code",
   "execution_count": 7,
   "metadata": {},
   "outputs": [
    {
     "data": {
      "application/vnd.jupyter.widget-view+json": {
       "model_id": "f9fdbc6df9904ba09c502008afbedf17",
       "version_major": 2,
       "version_minor": 0
      },
      "text/plain": [
       "Canvas(toolbar=Toolbar(toolitems=[('Home', 'Reset original view', 'home', 'home'), ('Back', 'Back to previous …"
      ]
     },
     "metadata": {},
     "output_type": "display_data"
    }
   ],
   "source": [
    "x = np.linspace(0,3,100)\n",
    "y1 = np.sin(2*np.pi/0.857*x)\n",
    "\n",
    "fig5 = plt.figure(figsize=(6,3))\n",
    "ax5 = fig5.add_subplot()\n",
    "plt.grid(True, linewidth=0.5)\n",
    "ax5.plot(x, y1)\n",
    "ax5.plot(x, .8*y1, color='C00', alpha=0.5, linestyle='--')\n",
    "ax5.plot(x, .4*y1, color='C00', alpha=0.5, linestyle='--')\n",
    "ax5.plot(x, 0*y1, color='C00', alpha=0.5, linestyle='--')\n",
    "ax5.plot(x, -.4*y1, color='C00', alpha=0.5, linestyle='--')\n",
    "ax5.plot(x, -.8*y1, color='C00', alpha=0.5, linestyle='--')\n",
    "ax5.plot(x, -y1, color='C00')\n",
    "ax5.set_xlabel(r'horizontal position (m)')\n",
    "ax5.set_ylabel(r'vertical distortion (m)')\n",
    "ax5.axvline(0, color='k', linewidth=0.8)\n",
    "ax5.axhline(0, color='k', linewidth=0.8)\n",
    "ax5.set_xticks(np.linspace(0,3,7))\n",
    "ax5.set_yticks(np.linspace(-2,2,9))\n",
    "fig5.tight_layout()"
   ]
  },
  {
   "cell_type": "code",
   "execution_count": 4,
   "metadata": {},
   "outputs": [
    {
     "data": {
      "application/vnd.jupyter.widget-view+json": {
       "model_id": "3b8f8687797d4fcfa2ab25a20c674eda",
       "version_major": 2,
       "version_minor": 0
      },
      "text/plain": [
       "Canvas(toolbar=Toolbar(toolitems=[('Home', 'Reset original view', 'home', 'home'), ('Back', 'Back to previous …"
      ]
     },
     "metadata": {},
     "output_type": "display_data"
    }
   ],
   "source": [
    "x = np.linspace(0,10,1000)\n",
    "y1 = 2*np.cos(2*np.pi/4*x)\n",
    "# y2 = 2*np.cos(2*np.pi/3*x+2*np.pi/3)\n",
    "\n",
    "fig1 = plt.figure(figsize=(6,3))\n",
    "ax1 = fig1.add_subplot()\n",
    "ax1.plot(x,y1)\n",
    "#ax1.plot(x,y2)\n",
    "plt.grid(True, lw=0.5)\n",
    "ax1.set_xlabel(r'horizontal position (m)')\n",
    "ax1.set_ylabel(r'vertical distortion (m)')\n",
    "ax1.axvline(0, color='k', linewidth=.8)\n",
    "ax1.axhline(0, color='k', linewidth=.8)\n",
    "ax1.set_xticks(np.linspace(0,10,11))\n",
    "ax1.set_yticks(np.linspace(-5,5,11))\n",
    "# ax1.legend(['0 sec', '2 sec'])\n",
    "fig1.tight_layout()"
   ]
  },
  {
   "cell_type": "code",
   "execution_count": 5,
   "metadata": {},
   "outputs": [],
   "source": [
    "fig5.savefig('week12-plot-6-antinodes.png', dpi=100)"
   ]
  },
  {
   "cell_type": "code",
   "execution_count": 6,
   "metadata": {},
   "outputs": [],
   "source": [
    "fig1.savefig('week12-plot-wave-1.png', dpi=100)"
   ]
  },
  {
   "cell_type": "code",
   "execution_count": null,
   "metadata": {},
   "outputs": [],
   "source": []
  }
 ],
 "metadata": {
  "kernelspec": {
   "display_name": "Python 3",
   "language": "python",
   "name": "python3"
  },
  "language_info": {
   "codemirror_mode": {
    "name": "ipython",
    "version": 3
   },
   "file_extension": ".py",
   "mimetype": "text/x-python",
   "name": "python",
   "nbconvert_exporter": "python",
   "pygments_lexer": "ipython3",
   "version": "3.7.9"
  }
 },
 "nbformat": 4,
 "nbformat_minor": 4
}
