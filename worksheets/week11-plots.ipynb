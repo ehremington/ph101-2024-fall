{
 "cells": [
  {
   "cell_type": "code",
   "execution_count": 1,
   "metadata": {},
   "outputs": [],
   "source": [
    "%matplotlib widget\n",
    "\n",
    "import numpy as np\n",
    "import pandas as pd\n",
    "import matplotlib.pyplot as plt"
   ]
  },
  {
   "cell_type": "code",
   "execution_count": 2,
   "metadata": {},
   "outputs": [
    {
     "data": {
      "application/vnd.jupyter.widget-view+json": {
       "model_id": "dfc406c353a64d0c81b6d6d388dae259",
       "version_major": 2,
       "version_minor": 0
      },
      "text/plain": [
       "Canvas(toolbar=Toolbar(toolitems=[('Home', 'Reset original view', 'home', 'home'), ('Back', 'Back to previous …"
      ]
     },
     "metadata": {},
     "output_type": "display_data"
    }
   ],
   "source": [
    "x = np.linspace(0,2*np.pi,100)\n",
    "y = np.cos(2*np.pi/3*x)\n",
    "\n",
    "fig1 = plt.figure(figsize=(6,3))\n",
    "ax1 = fig1.add_subplot()\n",
    "ax1.plot(x,3*y)\n",
    "plt.grid(True, lw=0.5)\n",
    "ax1.set_xlabel('time (s)')\n",
    "ax1.set_ylabel(r'displacement (meters)')\n",
    "ax1.axvline(0, color='k')\n",
    "ax1.axhline(0, color='k')\n",
    "ax1.set_xticks(np.linspace(1,7,7))\n",
    "ax1.set_yticks(np.linspace(-3,3,7))\n",
    "fig1.tight_layout()"
   ]
  },
  {
   "cell_type": "code",
   "execution_count": 3,
   "metadata": {},
   "outputs": [],
   "source": [
    "fig1.savefig('week11-dispvst.png', dpi=300)"
   ]
  },
  {
   "cell_type": "code",
   "execution_count": 4,
   "metadata": {},
   "outputs": [
    {
     "data": {
      "application/vnd.jupyter.widget-view+json": {
       "model_id": "4b9dc4139353438ab364f094c905ab8d",
       "version_major": 2,
       "version_minor": 0
      },
      "text/plain": [
       "Canvas(toolbar=Toolbar(toolitems=[('Home', 'Reset original view', 'home', 'home'), ('Back', 'Back to previous …"
      ]
     },
     "metadata": {},
     "output_type": "display_data"
    }
   ],
   "source": [
    "fig2 = plt.figure(figsize=(6,3))\n",
    "ax2 = fig2.add_subplot()\n",
    "plt.grid(True, lw=0.5)\n",
    "ax2.set_xlabel('time (s)')\n",
    "ax2.set_ylabel(r'velocity (m/s)')\n",
    "ax2.axvline(0, color='k')\n",
    "ax2.axhline(0, color='k')\n",
    "ax2.set_xticks(np.linspace(1,7,7))\n",
    "ax2.set_yticks(np.linspace(-10,10,11))\n",
    "fig2.tight_layout()"
   ]
  },
  {
   "cell_type": "code",
   "execution_count": 5,
   "metadata": {},
   "outputs": [],
   "source": [
    "fig2.savefig('week11-velvst.png', dpi=300)"
   ]
  },
  {
   "cell_type": "code",
   "execution_count": 6,
   "metadata": {},
   "outputs": [
    {
     "data": {
      "application/vnd.jupyter.widget-view+json": {
       "model_id": "0208ac4867144a5e9b3c153064584c93",
       "version_major": 2,
       "version_minor": 0
      },
      "text/plain": [
       "Canvas(toolbar=Toolbar(toolitems=[('Home', 'Reset original view', 'home', 'home'), ('Back', 'Back to previous …"
      ]
     },
     "metadata": {},
     "output_type": "display_data"
    }
   ],
   "source": [
    "fig3 = plt.figure(figsize=(6,3))\n",
    "ax3 = fig3.add_subplot()\n",
    "plt.grid(True, lw=0.5)\n",
    "ax3.set_xlabel('time (s)')\n",
    "ax3.set_ylabel(r'acceleration (m/s$^2$)')\n",
    "ax3.axvline(0, color='k')\n",
    "ax3.axhline(0, color='k')\n",
    "ax3.set_xticks(np.linspace(1,7,7))\n",
    "ax3.set_yticks(np.linspace(-12,12,13))\n",
    "fig3.tight_layout()"
   ]
  },
  {
   "cell_type": "code",
   "execution_count": 7,
   "metadata": {},
   "outputs": [],
   "source": [
    "fig3.savefig('week11-accvst.png', dpi=300)"
   ]
  },
  {
   "cell_type": "code",
   "execution_count": 8,
   "metadata": {},
   "outputs": [
    {
     "data": {
      "application/vnd.jupyter.widget-view+json": {
       "model_id": "de28b0c5e28e403c8c08f021e53a3fe4",
       "version_major": 2,
       "version_minor": 0
      },
      "text/plain": [
       "Canvas(toolbar=Toolbar(toolitems=[('Home', 'Reset original view', 'home', 'home'), ('Back', 'Back to previous …"
      ]
     },
     "metadata": {},
     "output_type": "display_data"
    }
   ],
   "source": [
    "fig4 = plt.figure(figsize=(6,3))\n",
    "ax4 = fig4.add_subplot()\n",
    "plt.grid(True, lw=0.5)\n",
    "ax4.set_xlabel('time (s)')\n",
    "ax4.set_ylabel(r'Kinetic Energy (J)')\n",
    "ax4.axvline(0, color='k')\n",
    "ax4.axhline(0, color='k')\n",
    "ax4.set_xticks(np.linspace(1,7,7))\n",
    "ax4.set_yticks(np.linspace(-20,20,11))\n",
    "fig4.tight_layout()"
   ]
  },
  {
   "cell_type": "code",
   "execution_count": 9,
   "metadata": {},
   "outputs": [],
   "source": [
    "fig4.savefig('week11-kevst.png', dpi=300)"
   ]
  },
  {
   "cell_type": "code",
   "execution_count": 10,
   "metadata": {},
   "outputs": [
    {
     "data": {
      "application/vnd.jupyter.widget-view+json": {
       "model_id": "40a6a136eb674795a96a4a8e51f24313",
       "version_major": 2,
       "version_minor": 0
      },
      "text/plain": [
       "Canvas(toolbar=Toolbar(toolitems=[('Home', 'Reset original view', 'home', 'home'), ('Back', 'Back to previous …"
      ]
     },
     "metadata": {},
     "output_type": "display_data"
    }
   ],
   "source": [
    "fig5 = plt.figure(figsize=(6,3))\n",
    "ax5 = fig5.add_subplot()\n",
    "plt.grid(True, lw=0.5)\n",
    "ax5.set_xlabel('time (s)')\n",
    "ax5.set_ylabel(r'Potential Energy (J)')\n",
    "ax5.axvline(0, color='k')\n",
    "ax5.axhline(0, color='k')\n",
    "ax5.set_xticks(np.linspace(1,7,7))\n",
    "ax5.set_yticks(np.linspace(-20,20,11))\n",
    "fig5.tight_layout()"
   ]
  },
  {
   "cell_type": "code",
   "execution_count": 11,
   "metadata": {},
   "outputs": [],
   "source": [
    "fig5.savefig('week11-pevst.png', dpi=300)"
   ]
  },
  {
   "cell_type": "code",
   "execution_count": 12,
   "metadata": {},
   "outputs": [
    {
     "data": {
      "application/vnd.jupyter.widget-view+json": {
       "model_id": "660458347fbd451caf17dc674f592bb4",
       "version_major": 2,
       "version_minor": 0
      },
      "text/plain": [
       "Canvas(toolbar=Toolbar(toolitems=[('Home', 'Reset original view', 'home', 'home'), ('Back', 'Back to previous …"
      ]
     },
     "metadata": {},
     "output_type": "display_data"
    }
   ],
   "source": [
    "fig6 = plt.figure(figsize=(6,3))\n",
    "ax6 = fig6.add_subplot()\n",
    "plt.grid(True, lw=0.5)\n",
    "ax6.set_xlabel('time (s)')\n",
    "ax6.set_ylabel(r'Total Energy (J)')\n",
    "ax6.axvline(0, color='k')\n",
    "ax6.axhline(0, color='k')\n",
    "ax6.set_xticks(np.linspace(1,7,7))\n",
    "ax6.set_yticks(np.linspace(-20,20,11))\n",
    "fig6.tight_layout()"
   ]
  },
  {
   "cell_type": "code",
   "execution_count": 13,
   "metadata": {},
   "outputs": [],
   "source": [
    "fig6.savefig('week11-evst.png', dpi=300)"
   ]
  },
  {
   "cell_type": "code",
   "execution_count": 14,
   "metadata": {},
   "outputs": [
    {
     "data": {
      "application/vnd.jupyter.widget-view+json": {
       "model_id": "20b8e6cbd9544064892674e7bb0fe14d",
       "version_major": 2,
       "version_minor": 0
      },
      "text/plain": [
       "Canvas(toolbar=Toolbar(toolitems=[('Home', 'Reset original view', 'home', 'home'), ('Back', 'Back to previous …"
      ]
     },
     "metadata": {},
     "output_type": "display_data"
    }
   ],
   "source": [
    "x7 = np.linspace(0,2*np.pi,1000)\n",
    "y7 = 1.5*np.cos(2*np.pi/1*x7)\n",
    "\n",
    "fig7 = plt.figure(figsize=(6,3))\n",
    "ax7 = fig7.add_subplot()\n",
    "ax7.plot(x7, y7)\n",
    "plt.grid(True, lw=0.5)\n",
    "ax7.set_xlabel('time (s)')\n",
    "ax7.set_ylabel(r'displacement (meters)')\n",
    "ax7.axvline(0, color='k')\n",
    "ax7.axhline(0, color='k')\n",
    "ax7.set_xticks(np.linspace(1,7,7))\n",
    "ax7.set_yticks(np.linspace(-3,3,7))\n",
    "fig7.tight_layout()"
   ]
  },
  {
   "cell_type": "code",
   "execution_count": 15,
   "metadata": {},
   "outputs": [],
   "source": [
    "fig7.savefig('week11-plot-quiz', dpi=300)"
   ]
  },
  {
   "cell_type": "code",
   "execution_count": null,
   "metadata": {},
   "outputs": [],
   "source": []
  },
  {
   "cell_type": "code",
   "execution_count": null,
   "metadata": {},
   "outputs": [],
   "source": []
  }
 ],
 "metadata": {
  "kernelspec": {
   "display_name": "Python 3",
   "language": "python",
   "name": "python3"
  },
  "language_info": {
   "codemirror_mode": {
    "name": "ipython",
    "version": 3
   },
   "file_extension": ".py",
   "mimetype": "text/x-python",
   "name": "python",
   "nbconvert_exporter": "python",
   "pygments_lexer": "ipython3",
   "version": "3.7.9"
  }
 },
 "nbformat": 4,
 "nbformat_minor": 4
}
