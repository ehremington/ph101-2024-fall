{
 "cells": [
  {
   "cell_type": "code",
   "execution_count": 8,
   "metadata": {},
   "outputs": [],
   "source": [
    "%matplotlib widget"
   ]
  },
  {
   "cell_type": "code",
   "execution_count": 9,
   "metadata": {},
   "outputs": [],
   "source": [
    "import numpy as np\n",
    "import pandas as pd\n",
    "import matplotlib.pyplot as plt"
   ]
  },
  {
   "cell_type": "code",
   "execution_count": 10,
   "metadata": {},
   "outputs": [
    {
     "data": {
      "application/vnd.jupyter.widget-view+json": {
       "model_id": "103406fcc89b4f7397a67e7597584504",
       "version_major": 2,
       "version_minor": 0
      },
      "text/plain": [
       "Canvas(toolbar=Toolbar(toolitems=[('Home', 'Reset original view', 'home', 'home'), ('Back', 'Back to previous …"
      ]
     },
     "metadata": {},
     "output_type": "display_data"
    },
    {
     "data": {
      "text/plain": [
       "<AxesSubplot:xlabel='baseballs thrown', ylabel='my speed'>"
      ]
     },
     "execution_count": 10,
     "metadata": {},
     "output_type": "execute_result"
    }
   ],
   "source": [
    "N = 100\n",
    "\n",
    "df = pd.DataFrame()\n",
    "df['backpack'] = np.arange(N,-1,-1)\n",
    "\n",
    "df['mass'] = 75+0.5*df['backpack']\n",
    "\n",
    "df['baseball velocity'] = np.zeros(N+1)\n",
    "\n",
    "df.at[1, 'baseball velocity'] = 15\n",
    "\n",
    "df['my velocity'] = np.zeros(N+1)\n",
    "\n",
    "df.at[1, 'my velocity'] = 7.5/df.at[1,'mass']\n",
    "\n",
    "df['my momentum'] = df['mass']*df['my velocity']\n",
    "\n",
    "for i in df.index[2:]:\n",
    "    df.at[i,'baseball velocity'] = -15 + df.at[i-1, 'my velocity']\n",
    "    df.at[i, 'my velocity'] = (df.at[i-1, 'my momentum'] - df.at[i, 'baseball velocity']*.5)/df.at[i, 'mass']\n",
    "    df['my momentum'] = df['mass']*df['my velocity']\n",
    "\n",
    "df['my velocity'].plot(linestyle='None', marker='o', mfc='None', xlabel='baseballs thrown', ylabel='my speed')"
   ]
  },
  {
   "cell_type": "code",
   "execution_count": null,
   "metadata": {},
   "outputs": [],
   "source": []
  },
  {
   "cell_type": "code",
   "execution_count": null,
   "metadata": {},
   "outputs": [],
   "source": []
  }
 ],
 "metadata": {
  "kernelspec": {
   "display_name": "Python 3",
   "language": "python",
   "name": "python3"
  },
  "language_info": {
   "codemirror_mode": {
    "name": "ipython",
    "version": 3
   },
   "file_extension": ".py",
   "mimetype": "text/x-python",
   "name": "python",
   "nbconvert_exporter": "python",
   "pygments_lexer": "ipython3",
   "version": "3.7.9"
  }
 },
 "nbformat": 4,
 "nbformat_minor": 4
}
