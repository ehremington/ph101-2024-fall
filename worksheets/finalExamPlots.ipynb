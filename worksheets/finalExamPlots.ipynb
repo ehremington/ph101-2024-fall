{
 "cells": [
  {
   "cell_type": "code",
   "execution_count": 1,
   "id": "1f3d9037-0b35-4c83-b6db-f820d4a9363b",
   "metadata": {},
   "outputs": [],
   "source": [
    "%matplotlib widget\n",
    "\n",
    "import numpy as np\n",
    "import pandas as pd\n",
    "import matplotlib.pyplot as plt"
   ]
  },
  {
   "cell_type": "code",
   "execution_count": 5,
   "id": "fa694334-0d45-42cf-821d-9dcb3ae0fa8f",
   "metadata": {},
   "outputs": [
    {
     "data": {
      "application/vnd.jupyter.widget-view+json": {
       "model_id": "4bf625aa4b2144f6b2ea91d2dfe67243",
       "version_major": 2,
       "version_minor": 0
      },
      "text/plain": [
       "Canvas(toolbar=Toolbar(toolitems=[('Home', 'Reset original view', 'home', 'home'), ('Back', 'Back to previous …"
      ]
     },
     "metadata": {},
     "output_type": "display_data"
    }
   ],
   "source": [
    "x = np.linspace(0,2*np.pi,100)\n",
    "y = np.cos(2*np.pi/2*x)\n",
    "\n",
    "fig1 = plt.figure(figsize=(6,3))\n",
    "ax1 = fig1.add_subplot()\n",
    "ax1.plot(x,3*y)\n",
    "plt.grid(True, lw=0.5)\n",
    "ax1.set_xlabel('time (s)')\n",
    "ax1.set_ylabel(r'displacement (meters)')\n",
    "ax1.axvline(0, color='k')\n",
    "ax1.axhline(0, color='k')\n",
    "ax1.set_xticks(np.linspace(1,7,7))\n",
    "ax1.set_yticks(np.linspace(-3,3,7))\n",
    "fig1.tight_layout()"
   ]
  },
  {
   "cell_type": "code",
   "execution_count": 6,
   "id": "b2149357-9146-4abc-adeb-cd6ca19a69e8",
   "metadata": {},
   "outputs": [],
   "source": [
    "fig1.savefig('final-SHM-displacement.png', dpi=100)"
   ]
  },
  {
   "cell_type": "code",
   "execution_count": 48,
   "id": "9037fd68-2a76-4797-b3db-cbfc505b580f",
   "metadata": {},
   "outputs": [],
   "source": [
    "df = pd.read_csv('heartbeatdata.csv')\n",
    "x2 = np.arange(0,df.size*2,2)"
   ]
  },
  {
   "cell_type": "code",
   "execution_count": 51,
   "id": "e7d88da4-fa42-48db-a8d6-f06a2f02173d",
   "metadata": {},
   "outputs": [
    {
     "data": {
      "application/vnd.jupyter.widget-view+json": {
       "model_id": "71175e38800e44678d5be96684aa3f12",
       "version_major": 2,
       "version_minor": 0
      },
      "text/plain": [
       "Canvas(toolbar=Toolbar(toolitems=[('Home', 'Reset original view', 'home', 'home'), ('Back', 'Back to previous …"
      ]
     },
     "metadata": {},
     "output_type": "display_data"
    }
   ],
   "source": [
    "fig2 = plt.figure(figsize=(6,3))\n",
    "ax2 = fig2.add_subplot()\n",
    "ax2.plot(x2, df)\n",
    "ax2.set_xlim(0,1000)\n",
    "ax2.set_xticks(np.arange(0,1100,100))\n",
    "ax2.grid(True, lw=0.5)\n",
    "ax2.set_ylabel('heart signal - millivolts')\n",
    "ax2.set_xlabel('time - milliseconds')\n",
    "fig2.tight_layout()"
   ]
  },
  {
   "cell_type": "code",
   "execution_count": 56,
   "id": "ea04ccc7-65e8-476d-b7fd-dd7a307afcd1",
   "metadata": {},
   "outputs": [
    {
     "data": {
      "application/vnd.jupyter.widget-view+json": {
       "model_id": "a6a8031790824d26b5268924ada69861",
       "version_major": 2,
       "version_minor": 0
      },
      "text/plain": [
       "Canvas(toolbar=Toolbar(toolitems=[('Home', 'Reset original view', 'home', 'home'), ('Back', 'Back to previous …"
      ]
     },
     "metadata": {},
     "output_type": "display_data"
    }
   ],
   "source": [
    "x = np.linspace(0,3,100)\n",
    "y1 = np.sin(2*np.pi/1.2*x)\n",
    "\n",
    "fig5 = plt.figure(figsize=(6,3))\n",
    "ax5 = fig5.add_subplot()\n",
    "plt.grid(True, linewidth=0.5)\n",
    "ax5.plot(x, y1)\n",
    "ax5.plot(x, .8*y1, color='C00', alpha=0.5, linestyle='--')\n",
    "ax5.plot(x, .4*y1, color='C00', alpha=0.5, linestyle='--')\n",
    "ax5.plot(x, 0*y1, color='C00', alpha=0.5, linestyle='--')\n",
    "ax5.plot(x, -.4*y1, color='C00', alpha=0.5, linestyle='--')\n",
    "ax5.plot(x, -.8*y1, color='C00', alpha=0.5, linestyle='--')\n",
    "ax5.plot(x, -y1, color='C00')\n",
    "ax5.set_xlabel(r'horizontal position (m)')\n",
    "ax5.set_ylabel(r'vertical distortion (m)')\n",
    "ax5.axvline(0, color='k', linewidth=0.8)\n",
    "ax5.axhline(0, color='k', linewidth=0.8)\n",
    "ax5.set_xticks(np.linspace(0,3,7))\n",
    "ax5.set_yticks(np.linspace(-2,2,9))\n",
    "fig5.tight_layout()"
   ]
  },
  {
   "cell_type": "code",
   "execution_count": 57,
   "id": "201af8f5-75cc-4c7c-90ea-902722274c1a",
   "metadata": {},
   "outputs": [],
   "source": [
    "fig5.savefig('standingWave.png', dpi=100)"
   ]
  },
  {
   "cell_type": "code",
   "execution_count": null,
   "id": "8e7dec5d-e2e3-480a-b491-f2561bd0e93a",
   "metadata": {},
   "outputs": [],
   "source": []
  }
 ],
 "metadata": {
  "kernelspec": {
   "display_name": "Python 3",
   "language": "python",
   "name": "python3"
  },
  "language_info": {
   "codemirror_mode": {
    "name": "ipython",
    "version": 3
   },
   "file_extension": ".py",
   "mimetype": "text/x-python",
   "name": "python",
   "nbconvert_exporter": "python",
   "pygments_lexer": "ipython3",
   "version": "3.7.9"
  }
 },
 "nbformat": 4,
 "nbformat_minor": 5
}
