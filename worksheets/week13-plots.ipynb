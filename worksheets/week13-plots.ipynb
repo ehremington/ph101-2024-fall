{
 "cells": [
  {
   "cell_type": "code",
   "execution_count": 1,
   "metadata": {},
   "outputs": [],
   "source": [
    "%matplotlib widget\n",
    "\n",
    "import numpy as np\n",
    "import pandas as pd\n",
    "import matplotlib.pyplot as plt"
   ]
  },
  {
   "cell_type": "code",
   "execution_count": 2,
   "metadata": {},
   "outputs": [
    {
     "data": {
      "application/vnd.jupyter.widget-view+json": {
       "model_id": "92b8bb6907d64dc6ba3ebf5695e8b7b6",
       "version_major": 2,
       "version_minor": 0
      },
      "text/plain": [
       "Canvas(toolbar=Toolbar(toolitems=[('Home', 'Reset original view', 'home', 'home'), ('Back', 'Back to previous …"
      ]
     },
     "metadata": {},
     "output_type": "display_data"
    }
   ],
   "source": [
    "fig0 = plt.figure(figsize=(6,3))\n",
    "ax0 = fig0.add_subplot()\n",
    "plt.grid(True, lw=0.5)\n",
    "ax0.set_xlabel(r'horizontal position (m)')\n",
    "ax0.set_ylabel(r'vertical distortion (m)')\n",
    "ax0.axvline(0, color='k', linewidth=.8)\n",
    "ax0.axhline(0, color='k', linewidth=.8)\n",
    "ax0.set_xticks(np.linspace(1,20,20))\n",
    "ax0.set_yticks(np.linspace(-5,5,11))\n",
    "fig0.tight_layout()"
   ]
  },
  {
   "cell_type": "code",
   "execution_count": 3,
   "metadata": {},
   "outputs": [
    {
     "data": {
      "application/vnd.jupyter.widget-view+json": {
       "model_id": "445937f540754b86963fda72a0645731",
       "version_major": 2,
       "version_minor": 0
      },
      "text/plain": [
       "Canvas(toolbar=Toolbar(toolitems=[('Home', 'Reset original view', 'home', 'home'), ('Back', 'Back to previous …"
      ]
     },
     "metadata": {},
     "output_type": "display_data"
    }
   ],
   "source": [
    "x = np.linspace(0,20,1000)\n",
    "y1 = 2*np.cos(2*np.pi/3*x)\n",
    "y2 = 2*np.cos(2*np.pi/3*x+2*np.pi/3)\n",
    "\n",
    "fig1 = plt.figure(figsize=(6,3))\n",
    "ax1 = fig1.add_subplot()\n",
    "ax1.plot(x,y1)\n",
    "ax1.plot(x,y2)\n",
    "plt.grid(True, lw=0.5)\n",
    "ax1.set_xlabel(r'horizontal position (m)')\n",
    "ax1.set_ylabel(r'vertical distortion (m)')\n",
    "ax1.axvline(0, color='k', linewidth=.8)\n",
    "ax1.axhline(0, color='k', linewidth=.8)\n",
    "ax1.set_xticks(np.linspace(1,20,20))\n",
    "ax1.set_yticks(np.linspace(-5,5,11))\n",
    "ax1.legend(['0 sec', '2 sec'])\n",
    "fig1.tight_layout()"
   ]
  },
  {
   "cell_type": "code",
   "execution_count": 4,
   "metadata": {},
   "outputs": [
    {
     "data": {
      "application/vnd.jupyter.widget-view+json": {
       "model_id": "e199109a3d86401aae474eacc3d532e7",
       "version_major": 2,
       "version_minor": 0
      },
      "text/plain": [
       "Canvas(toolbar=Toolbar(toolitems=[('Home', 'Reset original view', 'home', 'home'), ('Back', 'Back to previous …"
      ]
     },
     "metadata": {},
     "output_type": "display_data"
    }
   ],
   "source": [
    "fig2 = plt.figure(figsize=(6,3))\n",
    "ax2 = fig2.add_subplot()\n",
    "plt.grid(True, lw=0.5)\n",
    "ax2.set_xlabel(r'horizontal position (m)')\n",
    "ax2.set_ylabel(r'vertical distortion (m)')\n",
    "ax2.axvline(0, color='k', linewidth=.8)\n",
    "ax2.axhline(0, color='k', linewidth=.8)\n",
    "ax2.set_xticks(np.linspace(0.5,5,10))\n",
    "ax2.set_yticks(np.linspace(-5,5,11))\n",
    "fig2.tight_layout()"
   ]
  },
  {
   "cell_type": "code",
   "execution_count": 5,
   "metadata": {},
   "outputs": [
    {
     "data": {
      "application/vnd.jupyter.widget-view+json": {
       "model_id": "fd13c45643b0416696d9a43ea771893c",
       "version_major": 2,
       "version_minor": 0
      },
      "text/plain": [
       "Canvas(toolbar=Toolbar(toolitems=[('Home', 'Reset original view', 'home', 'home'), ('Back', 'Back to previous …"
      ]
     },
     "metadata": {},
     "output_type": "display_data"
    }
   ],
   "source": [
    "x = np.linspace(0,20,1000)\n",
    "z1 = 2*np.exp(-(x-3)**2/.5)\n",
    "z2 = 3*np.exp(-(x-14)**2/.5)\n",
    "\n",
    "fig3 = plt.figure(figsize=(6,3))\n",
    "ax3 = fig3.add_subplot()\n",
    "ax3.plot(x,z1)\n",
    "ax3.plot(x,z2)\n",
    "\n",
    "ax3.arrow(3, 2.5, 1, 0, head_width=.5, head_length=.5, length_includes_head=False, color='C00')\n",
    "ax3.arrow(14, 2.5, -1, 0, head_width=.5, head_length=.5, length_includes_head=False, color='C01')\n",
    "\n",
    "plt.grid(True, lw=0.5)\n",
    "ax3.set_xlabel(r'horizontal position (m)')\n",
    "ax3.set_ylabel(r'vertical distortion (m)')\n",
    "ax3.axvline(0, color='k', linewidth=.8)\n",
    "ax3.axhline(0, color='k', linewidth=.8)\n",
    "ax3.set_xticks(np.linspace(1,20,20))\n",
    "ax3.set_yticks(np.linspace(-5,5,11))\n",
    "fig3.tight_layout()"
   ]
  },
  {
   "cell_type": "code",
   "execution_count": 6,
   "metadata": {},
   "outputs": [
    {
     "data": {
      "application/vnd.jupyter.widget-view+json": {
       "model_id": "790247cbce3e4b7cbabcc700ace5eef9",
       "version_major": 2,
       "version_minor": 0
      },
      "text/plain": [
       "Canvas(toolbar=Toolbar(toolitems=[('Home', 'Reset original view', 'home', 'home'), ('Back', 'Back to previous …"
      ]
     },
     "metadata": {},
     "output_type": "display_data"
    }
   ],
   "source": [
    "x = np.linspace(0,20,1000)\n",
    "z1 = 2*np.exp(-(x-2)**2/.5)\n",
    "z2 = -5*np.exp(-(x-15)**2/.5)\n",
    "\n",
    "fig4 = plt.figure(figsize=(6,3))\n",
    "ax4 = fig4.add_subplot()\n",
    "ax4.plot(x,z1)\n",
    "ax4.plot(x,z2)\n",
    "\n",
    "ax4.arrow(2, 2.5, 1, 0, head_width=.5, head_length=.5, length_includes_head=False, color='C00')\n",
    "ax4.arrow(14, -2.5, -1, 0, head_width=.5, head_length=.5, length_includes_head=False, color='C01')\n",
    "\n",
    "\n",
    "plt.grid(True, lw=0.5)\n",
    "ax4.set_xlabel(r'horizontal position (m)')\n",
    "ax4.set_ylabel(r'vertical distortion (m)')\n",
    "ax4.axvline(0, color='k', linewidth=.8)\n",
    "ax4.axhline(0, color='k', linewidth=.8)\n",
    "ax4.set_xticks(np.linspace(1,20,20))\n",
    "ax4.set_yticks(np.linspace(-5,5,11))\n",
    "fig4.tight_layout()"
   ]
  },
  {
   "cell_type": "code",
   "execution_count": 7,
   "metadata": {},
   "outputs": [
    {
     "data": {
      "application/vnd.jupyter.widget-view+json": {
       "model_id": "d48ee28a583d47ed9525b028f6e56354",
       "version_major": 2,
       "version_minor": 0
      },
      "text/plain": [
       "Canvas(toolbar=Toolbar(toolitems=[('Home', 'Reset original view', 'home', 'home'), ('Back', 'Back to previous …"
      ]
     },
     "metadata": {},
     "output_type": "display_data"
    }
   ],
   "source": [
    "x = np.linspace(0,2,100)\n",
    "y1 = np.sin(2*np.pi/1*x)\n",
    "\n",
    "fig5 = plt.figure(figsize=(6,3))\n",
    "ax5 = fig5.add_subplot()\n",
    "plt.grid(True, linewidth=0.5)\n",
    "ax5.plot(x, y1)\n",
    "ax5.plot(x, .8*y1, color='C00', alpha=0.5, linestyle='--')\n",
    "ax5.plot(x, .4*y1, color='C00', alpha=0.5, linestyle='--')\n",
    "ax5.plot(x, 0*y1, color='C00', alpha=0.5, linestyle='--')\n",
    "ax5.plot(x, -.4*y1, color='C00', alpha=0.5, linestyle='--')\n",
    "ax5.plot(x, -.8*y1, color='C00', alpha=0.5, linestyle='--')\n",
    "ax5.plot(x, -y1, color='C00')\n",
    "ax5.set_xlabel(r'horizontal position (m)')\n",
    "ax5.set_ylabel(r'vertical distortion (m)')\n",
    "ax5.axvline(0, color='k', linewidth=0.8)\n",
    "ax5.axhline(0, color='k', linewidth=0.8)\n",
    "ax5.set_xticks(np.linspace(0,2,9))\n",
    "ax5.set_yticks(np.linspace(-2,2,9))\n",
    "fig5.tight_layout()"
   ]
  },
  {
   "cell_type": "code",
   "execution_count": 8,
   "metadata": {},
   "outputs": [],
   "source": [
    "fig0.savefig('week12-blank-plot.png', dpi=300)"
   ]
  },
  {
   "cell_type": "code",
   "execution_count": 9,
   "metadata": {},
   "outputs": [],
   "source": [
    "fig1.savefig('week12-plot-2-times.png', dpi=300)"
   ]
  },
  {
   "cell_type": "code",
   "execution_count": 10,
   "metadata": {},
   "outputs": [],
   "source": [
    "fig2.savefig('week12-blank-plot-2.png', dpi=300)"
   ]
  },
  {
   "cell_type": "code",
   "execution_count": 11,
   "metadata": {},
   "outputs": [],
   "source": [
    "fig3.savefig('week12-plot-upright-gauss-pulse.png', dpi=300)"
   ]
  },
  {
   "cell_type": "code",
   "execution_count": 12,
   "metadata": {},
   "outputs": [],
   "source": [
    "fig4.savefig('week12-plot-invert-gauss-pulse.png', dpi=300)"
   ]
  },
  {
   "cell_type": "code",
   "execution_count": 13,
   "metadata": {},
   "outputs": [],
   "source": [
    "fig5.savefig('week12-plot-standing-wave-1.png', dpi=300)"
   ]
  },
  {
   "cell_type": "code",
   "execution_count": null,
   "metadata": {},
   "outputs": [],
   "source": []
  },
  {
   "cell_type": "code",
   "execution_count": null,
   "metadata": {},
   "outputs": [],
   "source": []
  }
 ],
 "metadata": {
  "kernelspec": {
   "display_name": "Python 3",
   "language": "python",
   "name": "python3"
  },
  "language_info": {
   "codemirror_mode": {
    "name": "ipython",
    "version": 3
   },
   "file_extension": ".py",
   "mimetype": "text/x-python",
   "name": "python",
   "nbconvert_exporter": "python",
   "pygments_lexer": "ipython3",
   "version": "3.7.9"
  }
 },
 "nbformat": 4,
 "nbformat_minor": 4
}
